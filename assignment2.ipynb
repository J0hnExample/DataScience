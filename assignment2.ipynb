{
 "cells": [
  {
   "cell_type": "markdown",
   "id": "0db414fa-6f11-43e9-97ab-94fa0f468543",
   "metadata": {
    "deletable": false,
    "editable": false,
    "nbgrader": {
     "cell_type": "markdown",
     "checksum": "6ad5951c21e9d59c399948f6794e609e",
     "grade": false,
     "grade_id": "cell-24fd992df7c1d707",
     "locked": true,
     "schema_version": 3,
     "solution": false,
     "task": false
    }
   },
   "source": [
    "# Assignment 2\n",
    "\n",
    "### Instructions\n",
    "- Do NOT change the filename.\n",
    "- Do NOT add or copy cells before the \"Sandpit\". Only add your own cells after the \"Sandpit\".\n",
    "- Enter your name below."
   ]
  },
  {
   "cell_type": "markdown",
   "id": "5f34ced5-61ce-4c7c-b012-31a9ef766cc7",
   "metadata": {
    "jp-MarkdownHeadingCollapsed": true
   },
   "source": [
    "### Enter your name here\n",
    "Name: "
   ]
  },
  {
   "cell_type": "code",
   "execution_count": null,
   "id": "3731e8da",
   "metadata": {},
   "outputs": [],
   "source": []
  },
  {
   "cell_type": "markdown",
   "id": "ca494739-ab18-4e96-b292-16a92a447a07",
   "metadata": {
    "deletable": false,
    "editable": false,
    "nbgrader": {
     "cell_type": "markdown",
     "checksum": "da480971131c6e393671d203a453b6bb",
     "grade": false,
     "grade_id": "cell-60cf5f9ccc2adb0b",
     "locked": true,
     "schema_version": 3,
     "solution": false,
     "task": false
    }
   },
   "source": [
    "## Task 1: String manipulation\n",
    "###### (2 points)\n",
    "- Write code that creates a BHT email address, in this format:\n",
    "  first 2 letters in first name in lower case, followed by first 2 letters in last name in lower case, followed by \"1234\"\n",
    "- Example: \"Butter Ball\" gets the email address \"buba1234@bht-berlin.de\"\n",
    "- (We haven't talked about functions yet, but we need this construct here for auto-grading.)"
   ]
  },
  {
   "cell_type": "code",
   "execution_count": 1,
   "id": "b8ef1f5f-6e44-4be2-a73f-396956805957",
   "metadata": {
    "deletable": false,
    "nbgrader": {
     "cell_type": "code",
     "checksum": "c98afe12a2a4a6ab3ace1653ae70168f",
     "grade": false,
     "grade_id": "cell-9e08127856761ea8",
     "locked": false,
     "schema_version": 3,
     "solution": true,
     "task": false
    }
   },
   "outputs": [],
   "source": [
    "def create_email_address(first_name, last_name):\n",
    "    # final line of code should look like this:\n",
    "    # return a_string_with_email_address\n",
    "    f_l = first_name[0:2]\n",
    "    l_l = last_name[0:2]\n",
    "    new_mail = f_l + l_l + \"1234@bht-berlin.de\"\n",
    "    mail = new_mail.lower()\n",
    "    print(mail)\n",
    "    return mail"
   ]
  },
  {
   "cell_type": "code",
   "execution_count": 2,
   "id": "7bb02b28-de32-4ddf-86cf-99c2ac52d674",
   "metadata": {
    "deletable": false,
    "editable": false,
    "nbgrader": {
     "cell_type": "code",
     "checksum": "324f0ea379a2b50b3804dd3a002913b1",
     "grade": true,
     "grade_id": "cell-70f1705262d021b6",
     "locked": true,
     "points": 1,
     "schema_version": 3,
     "solution": false,
     "task": false
    }
   },
   "outputs": [
    {
     "name": "stdout",
     "output_type": "stream",
     "text": [
      "buba1234@bht-berlin.de\n"
     ]
    }
   ],
   "source": [
    "assert create_email_address(\"Butter\", \"Ball\") == \"buba1234@bht-berlin.de\""
   ]
  },
  {
   "cell_type": "code",
   "execution_count": 3,
   "id": "a413e423-14b1-4765-9eaf-91a9fee12b59",
   "metadata": {
    "deletable": false,
    "editable": false,
    "nbgrader": {
     "cell_type": "code",
     "checksum": "fba10b8075528ef596da982d317f5124",
     "grade": true,
     "grade_id": "cell-6602798f99dcb2b5",
     "locked": true,
     "points": 1,
     "schema_version": 3,
     "solution": false,
     "task": false
    }
   },
   "outputs": [
    {
     "name": "stdout",
     "output_type": "stream",
     "text": [
      "raun1234@bht-berlin.de\n"
     ]
    }
   ],
   "source": [
    "assert create_email_address(\"Rainbow\", \"Unicorn\") == \"raun1234@bht-berlin.de\""
   ]
  },
  {
   "cell_type": "markdown",
   "id": "07a126a1-914d-42ed-a6a5-441e46e8cf8c",
   "metadata": {
    "deletable": false,
    "editable": false,
    "nbgrader": {
     "cell_type": "markdown",
     "checksum": "e651f461e28cc9d79c7554464092191e",
     "grade": false,
     "grade_id": "cell-1c3454bfd1f9ef20",
     "locked": true,
     "schema_version": 3,
     "solution": false,
     "task": false
    }
   },
   "source": [
    "## Task 2: List manipulation\n",
    "###### (2 points)\n",
    "Write code the performs the following:\n",
    "- Put the following strings/words into a list (your choice of variable name), exactly in this order:\n",
    "\n",
    "``['the', 'dog',  'quick', 'lazy', 'brown', 'a', 'fox', 'over', 'jumped']``\n",
    "\n",
    "- Using up to __3__ carefully and cleverly chosen list operations, come up with a new list with (variable name __must__ be \"new_list\") the same words, but in this new order:\n",
    "\n",
    "``['the', 'quick', 'brown', 'fox', 'jumped', 'over', 'a', 'lazy', 'dog']``\n",
    "\n",
    "- No loops allowed! (We haven't talked about them yet.)\n",
    "- Obviously the following approach gets zero points:\n",
    "\n",
    "```ipython\n",
    "# Simply assigning the final answer without list manipulation -- zero points!\n",
    "list = ['the', 'quick', 'brown', 'fox', 'jumped', 'over', 'a', 'lazy', 'dog']\n",
    "print(list)\n",
    "```"
   ]
  },
  {
   "cell_type": "code",
   "execution_count": 4,
   "id": "228e4b4b-899b-4516-8c51-90a812c37bf4",
   "metadata": {
    "deletable": false,
    "nbgrader": {
     "cell_type": "code",
     "checksum": "d85dcb3afbb1e755b1757e2d77550e91",
     "grade": false,
     "grade_id": "cell-34110f1a5e8dfb71",
     "locked": false,
     "schema_version": 3,
     "solution": true,
     "task": false
    }
   },
   "outputs": [],
   "source": [
    "start_list = ['the', 'dog',  'quick', 'lazy', 'brown', 'a', 'fox', 'over', 'jumped']\n",
    "# Slice out \"dog\", \"lazy\", \"a\", \"over\"\n",
    "# Start at position 0 and take every second element\n",
    "a_list = start_list[0:len(start_list):2]\n",
    "# Slice out \"fox\", \"brown\", \"quick\"\n",
    "# Start at position -2 (second to last), go left and take every second element\n",
    "b_list = start_list[-2: :-2]\n",
    "# concatination \n",
    "new_list = a_list + b_list\n"
   ]
  },
  {
   "cell_type": "code",
   "execution_count": 5,
   "id": "7c2cb0b0-4d21-43dd-a648-462428a68590",
   "metadata": {
    "deletable": false,
    "editable": false,
    "nbgrader": {
     "cell_type": "code",
     "checksum": "e344d55bc90103349b7c304b56a5457a",
     "grade": true,
     "grade_id": "cell-d7728d4672965e61",
     "locked": true,
     "points": 2,
     "schema_version": 3,
     "solution": false,
     "task": false
    }
   },
   "outputs": [],
   "source": [
    "assert new_list == ['the', 'quick', 'brown', 'fox', 'jumped', 'over', 'a', 'lazy', 'dog']"
   ]
  },
  {
   "cell_type": "markdown",
   "id": "2f49d8e8-384c-4f0a-90a3-5deb36efbe59",
   "metadata": {
    "deletable": false,
    "editable": false,
    "nbgrader": {
     "cell_type": "markdown",
     "checksum": "478b3d1dd4833cd9f7b53c4bc9c54cff",
     "grade": false,
     "grade_id": "cell-eaba68f83c940e1a",
     "locked": true,
     "schema_version": 3,
     "solution": false,
     "task": false
    }
   },
   "source": [
    "# Sandpit begins here\n",
    "### Add your own cells below"
   ]
  },
  {
   "cell_type": "code",
   "execution_count": null,
   "id": "3e099a78-f2c4-4786-a996-cd26de194458",
   "metadata": {},
   "outputs": [],
   "source": []
  }
 ],
 "metadata": {
  "kernelspec": {
   "display_name": "base",
   "language": "python",
   "name": "python3"
  },
  "language_info": {
   "codemirror_mode": {
    "name": "ipython",
    "version": 3
   },
   "file_extension": ".py",
   "mimetype": "text/x-python",
   "name": "python",
   "nbconvert_exporter": "python",
   "pygments_lexer": "ipython3",
   "version": "3.12.4"
  }
 },
 "nbformat": 4,
 "nbformat_minor": 5
}

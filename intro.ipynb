{
 "cells": [
  {
   "cell_type": "markdown",
   "metadata": {},
   "source": [
    "# Instructions\n",
    "\n",
    "## Create a virtual environment(venv)\n",
    "\n",
    "### the venv is namend in the brackets\n",
    "`(venv) //C:`\n",
    "\n",
    "### create a new venv \n",
    "- python3 -m venv venv\n",
    "- source venv/bin/activate\n",
    "- deactivate\n",
    "\n",
    "### with Anaconda\n",
    "- conda create -n venv python=3.xx\n",
    "- conda activate venv\n",
    "- conda deactivate\n",
    "\n",
    "## Run Python (methods)\n",
    "- Execute a file from the shell: `$ python [somefile].py`\n",
    "- Start the Python interpreter: `$ python`\n",
    "- Start the IPython interpreter: `$ ipython`\n",
    "- Open Jupyter Notebook (IPython interpreter in a web browser)\n",
    "\n",
    "# execute via shell command\n",
    "- python some_file.py\n",
    "# python/ipython interpreter\n",
    "```\n",
    "$ python\n",
    "Python 3.11 |Continuum Analytics, Inc.| (default, DATE)\n",
    "Type \"help\", \"copyright\", \"credits\" or \"license\" for more information.\n",
    ">>>\n",
    "```\n",
    "type your code now\n",
    "\n",
    "$ ipython - to start the ipython interpreter with highlighting\n",
    "\n",
    "> **Note**: To use IPython, you need to start the shell in an activated virtual environment (\"venv\").\n",
    "\n",
    "## IPython Features\n",
    "\n",
    "IPython has some features like syntax highlighting and uses numbered commands, e.g., `[1]`.\n",
    "\n",
    "### Documentation and Introspection\n",
    "- `b = 1`\n",
    "- `b?` gives information about the type and value of the construct (variable, function, etc.).\n",
    "\n",
    "### Define a function with your own documentation\n",
    "```python\n",
    "def add_numbers(a, b):\n",
    "    \"\"\"\n",
    "    Adds two numbers and returns the result.\n",
    "\n",
    "    Parameters:\n",
    "    a (int, float): The first number.\n",
    "    b (int, float): The second number.\n",
    "\n",
    "    Returns:\n",
    "    int, float: The sum of the two numbers.\n",
    "    \"\"\"\n",
    "    return a + b\n"
   ]
  },
  {
   "cell_type": "code",
   "execution_count": 1,
   "metadata": {},
   "outputs": [
    {
     "name": "stdout",
     "output_type": "stream",
     "text": [
      "1 + 2 = 3\n"
     ]
    },
    {
     "name": "stdout",
     "output_type": "stream",
     "text": [
      "\u001b[1;31mSignature:\u001b[0m \u001b[0madd_numbers\u001b[0m\u001b[1;33m(\u001b[0m\u001b[0ma\u001b[0m\u001b[1;33m,\u001b[0m \u001b[0mb\u001b[0m\u001b[1;33m)\u001b[0m\u001b[1;33m\u001b[0m\u001b[1;33m\u001b[0m\u001b[0m\n",
      "\u001b[1;31mDocstring:\u001b[0m\n",
      "Adds two numbers and returns the result.\n",
      "\n",
      "Parameters:\n",
      "a (int, float): The first number.\n",
      "b (int, float): The second number.\n",
      "\n",
      "Returns:\n",
      "int, float: The sum of the two numbers.\n",
      "\u001b[1;31mFile:\u001b[0m      c:\\users\\sasch\\appdata\\local\\temp\\ipykernel_15080\\1846858683.py\n",
      "\u001b[1;31mType:\u001b[0m      function"
     ]
    }
   ],
   "source": [
    "def add_numbers(a, b):\n",
    "    \"\"\"\n",
    "    Adds two numbers and returns the result.\n",
    "\n",
    "    Parameters:\n",
    "    a (int, float): The first number.\n",
    "    b (int, float): The second number.\n",
    "\n",
    "    Returns:\n",
    "    int, float: The sum of the two numbers.\n",
    "    \"\"\"\n",
    "    return a + b\n",
    "#call the function add_numbers\n",
    "add_numbers?\n",
    "print(\"1 + 2 = \" + str(add_numbers(1,2)))"
   ]
  },
  {
   "cell_type": "markdown",
   "metadata": {},
   "source": [
    "> **Note** Why docstring is shown after the function call? Possibly due to Jupyter Notebooks' behavior of how outputs are buffered"
   ]
  },
  {
   "cell_type": "code",
   "execution_count": 2,
   "metadata": {},
   "outputs": [
    {
     "name": "stdout",
     "output_type": "stream",
     "text": [
      "This line is indented with tabs.\n",
      "This line is also indented with tabs.\n",
      "None\n",
      "140729537021904\n",
      "1\n",
      "[True, False, 2]\n"
     ]
    }
   ],
   "source": [
    "print(\"This line is indented with tabs.\")\n",
    "print(\"This line is also indented with tabs.\")  # Richtig: Nur Tabs\n",
    "x = None\n",
    "print(x)\n",
    "print(id(x))\n",
    "y = 1\n",
    "print(y)\n",
    "print([True, True, False] and [True, False, 2])\n",
    "\n"
   ]
  },
  {
   "cell_type": "markdown",
   "metadata": {},
   "source": [
    "#collection typs"
   ]
  },
  {
   "cell_type": "code",
   "execution_count": 4,
   "metadata": {},
   "outputs": [
    {
     "name": "stdout",
     "output_type": "stream",
     "text": [
      "(1, 2, 3)\n",
      "<class 'tuple'>\n",
      "[1, 2, 3]\n",
      "<class 'list'>\n",
      "{'a': 1, 'b': 2, 'c': 3}\n",
      "<class 'dict'>\n",
      "{1, 2, 3}\n",
      "<class 'set'>\n"
     ]
    }
   ],
   "source": [
    "#create a tuple\n",
    "c_type = (1, 2, 3)\n",
    "print(c_type)\n",
    "print(type(c_type))\n",
    "#create a list\n",
    "c_list = [1, 2, 3]\n",
    "print(c_list)\n",
    "print(type(c_list))\n",
    "#create a dictionary\n",
    "c_dict = {\"a\": 1, \"b\": 2, \"c\": 3}\n",
    "print(c_dict)\n",
    "print(type(c_dict))\n",
    "#create a set\n",
    "c_set = {1, 2, 3}\n",
    "print(c_set)\n",
    "print(type(c_set))"
   ]
  },
  {
   "cell_type": "code",
   "execution_count": 8,
   "metadata": {},
   "outputs": [
    {
     "data": {
      "text/plain": [
       "'a'"
      ]
     },
     "execution_count": 8,
     "metadata": {},
     "output_type": "execute_result"
    }
   ],
   "source": [
    "#create a class G with attribute a = 'a' \n",
    "class G():\n",
    "    def __init__(self, a):\n",
    "        self.a = a\n",
    "\n",
    "#create an object g with attribute a = 'a'\n",
    "g = G('a')\n",
    "g.a"
   ]
  },
  {
   "cell_type": "code",
   "execution_count": 13,
   "metadata": {},
   "outputs": [
    {
     "name": "stdout",
     "output_type": "stream",
     "text": [
      "3.12.4 | packaged by Anaconda, Inc. | (main, Jun 18 2024, 15:03:56) [MSC v.1929 64 bit (AMD64)]\n"
     ]
    },
    {
     "name": "stdout",
     "output_type": "stream",
     "text": [
      "sys.path\n",
      "sys.path_hooks\n",
      "sys.path_importer_cache"
     ]
    }
   ],
   "source": [
    "# import sys and print the version\n",
    "import sys\n",
    "print(sys.version)\n",
    "# console command to print all paths in sys.path\n",
    "sys.path*?"
   ]
  },
  {
   "cell_type": "code",
   "execution_count": 14,
   "metadata": {},
   "outputs": [
    {
     "name": "stdout",
     "output_type": "stream",
     "text": [
      "False\n"
     ]
    }
   ],
   "source": [
    "#Consider assignments\n",
    "x = [1, 2, 3]\n",
    "y = 4 in x\n",
    "print(y)\n",
    "#there is no 4 object in x"
   ]
  },
  {
   "cell_type": "code",
   "execution_count": 38,
   "metadata": {},
   "outputs": [
    {
     "name": "stdout",
     "output_type": "stream",
     "text": [
      "[1, 'b', True, 3]\n",
      "[1, 'b', 4, 3]\n",
      "[1, 'b', 4, 3]\n",
      "y = [2] x = [2, 1]\n",
      "y = 2 x = 3\n",
      "y = [2, 1] x = [2, 1]\n"
     ]
    }
   ],
   "source": [
    "# Shallow copy List and dictionary are mutable so you can change them\n",
    "\n",
    "L = [1, 'b', True, 3] # Original list\n",
    "print(L) # output: [1, 'b', True, 3]\n",
    "LL = L  # LL points to the same list as L\n",
    "L[2] = 4 # Modify the original list (and LL, since it points to the same list)\n",
    "print(LL) # output: [1, 'b', 4, 3] (LL reflects the change in L)\n",
    "print(L)    # output: [1, 'b', 4, 3] \n",
    "\n",
    "\n",
    "\n"
   ]
  },
  {
   "cell_type": "markdown",
   "metadata": {},
   "source": [
    "## The difference between append and +"
   ]
  },
  {
   "cell_type": "code",
   "execution_count": 39,
   "metadata": {},
   "outputs": [
    {
     "name": "stdout",
     "output_type": "stream",
     "text": [
      "y = [2] x = [2, 1]\n",
      "y = 2 x = 3\n",
      "y = [2, 1] x = [2, 1]\n"
     ]
    }
   ],
   "source": [
    "# This is a list \n",
    "x = [2]  # Assigning a list to a variable 'x'\n",
    "y = x    # 'y' points to the same list object as 'x'\n",
    "\n",
    "# The + operator creates a new list object by adding [1] to 'x'\n",
    "# A new list [2, 1] is created and assigned to 'x', \n",
    "# but 'y' still points to the original list [2].\n",
    "x = x + [1] \n",
    "print(\"y = \" + str(y) + \" x = \" + str(x))  # Output: y = [2], x = [2, 1]\n",
    "\n",
    "# This involves integer variables, which are immutable.\n",
    "# 'x' and 'y' hold the value of integers, not references to a mutable object.\n",
    "# When 'x' is modified, a new integer object is created and assigned to 'x',\n",
    "# while 'y' retains its original value.\n",
    "x = 2\n",
    "y = x\n",
    "x = x + 1  # 'x' now refers to the new integer 3\n",
    "print(\"y = \" + str(y) + \" x = \" + str(x))  # Output: y = 2, x = 3\n",
    "\n",
    "# This is a list\n",
    "x = [2]\n",
    "y = x  # 'y' points to the same list object as 'x'\n",
    "\n",
    "# The append() method modifies the original list in place,\n",
    "# adding the element 1 to the existing list [2]. \n",
    "# Since both 'x' and 'y' reference the same list object, \n",
    "# they both reflect this change.\n",
    "x.append(1)\n",
    "print(\"y = \" + str(y) + \" x = \" + str(x))  # Output: y = [2, 1], x = [2, 1]\n"
   ]
  },
  {
   "cell_type": "code",
   "execution_count": 35,
   "metadata": {},
   "outputs": [
    {
     "name": "stdout",
     "output_type": "stream",
     "text": [
      "[4]\n",
      "[1]\n",
      "[9, 7, 2, 5, 3]\n",
      "[2, 7, 9]\n",
      "[3, 5]\n",
      "['foo', 2, 3]\n",
      "0\n"
     ]
    }
   ],
   "source": [
    "# Some actions\n",
    "x = [1, 3, 4, 7]\n",
    "y = [y for y in x if y%2 == 0]\n",
    "print(y)\n",
    "\n",
    "y2 = []\n",
    "for idx in range(len(x)):\n",
    "    if x[idx]// 2 == 0:\n",
    "        y2.append(x[idx])\n",
    "print(y2)\n",
    "\n",
    "L = [3,5,2,7,9]\n",
    "print(L[::-1])\n",
    "print(L[-3:])\n",
    "print(L[:2])\n",
    "\n",
    "# This is a tuple\n",
    "# Tuples are immutable so you can't change them\n",
    "a = (1, 2, 3)\n",
    "# a[0] = 'foo'\n",
    "# print(a)\n",
    "# This is a list\n",
    "# Lists are mutable so you can change them\n",
    "b = [1, 2, 3]\n",
    "b[0] = 'foo'\n",
    "print(b)\n",
    "# This is a dictionary\n",
    "# Dictionaries are mutable so you can change them but to access them you have to use the key instead of the index\n",
    "# The value is 0 and 1 and the key is 'foo' and 'bar'\n",
    "c = {'foo':0,'bar':1}\n",
    "c_value = c['foo']\n",
    "#c_value2 = c[0] this doesn't work foo and bar are the keys\n",
    "print(c_value)\n",
    "\n"
   ]
  },
  {
   "cell_type": "code",
   "execution_count": 41,
   "metadata": {},
   "outputs": [
    {
     "name": "stdout",
     "output_type": "stream",
     "text": [
      "{'a': 'd', 'b': 3}\n",
      "['c', 'd']\n"
     ]
    }
   ],
   "source": [
    "x = {'a':1, 'b':3}\n",
    "y = ['c', 'd']\n",
    "x['a'] = y[-1]\n",
    "print(x)\n",
    "print(y)"
   ]
  }
 ],
 "metadata": {
  "kernelspec": {
   "display_name": "base",
   "language": "python",
   "name": "python3"
  },
  "language_info": {
   "codemirror_mode": {
    "name": "ipython",
    "version": 3
   },
   "file_extension": ".py",
   "mimetype": "text/x-python",
   "name": "python",
   "nbconvert_exporter": "python",
   "pygments_lexer": "ipython3",
   "version": "3.12.4"
  }
 },
 "nbformat": 4,
 "nbformat_minor": 2
}
